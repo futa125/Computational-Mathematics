{
 "cells": [
  {
   "cell_type": "markdown",
   "metadata": {},
   "source": [
    "# 1. Laboratorijske vježbe iz Numeričke matematike (zad2)"
   ]
  },
  {
   "cell_type": "markdown",
   "metadata": {},
   "source": [
    "Ime i prezime: Ivan Futivić"
   ]
  },
  {
   "cell_type": "markdown",
   "metadata": {},
   "source": [
    "Zadan je rubni problem \n",
    "$$-a u''(x)+u'(x)=0 \\quad 0<x<1\\quad a>0$$\n",
    "$$u(0)=0,\\quad u(1)=1$$"
   ]
  },
  {
   "cell_type": "markdown",
   "metadata": {},
   "source": [
    "a) Ovaj problem ima analitičko rješenje koje je jednako\n",
    "$$u(x)=\\frac{e^{-\\frac{1-x}{a}}-e^{-\\frac{1}{a}}}{1-e^{-\\frac{1}{a}}}$$\n",
    "Koriteći biblioteku **matplotlib** nacrtajte ovo rješenje za dva volji odabrana $a.$ "
   ]
  },
  {
   "cell_type": "code",
   "execution_count": 19,
   "metadata": {},
   "outputs": [
    {
     "data": {
      "image/png": "[encoded data removed]",
      "text/plain": [
       "<Figure size 432x288 with 1 Axes>"
      ]
     },
     "metadata": {
      "needs_background": "light"
     },
     "output_type": "display_data"
    }
   ],
   "source": [
    "import matplotlib.pyplot as plt\n",
    "import numpy as np\n",
    "\n",
    "\n",
    "x = np.linspace(0, 1, 1000)\n",
    "\n",
    "a = 10\n",
    "y = (np.e ** (-(1 - x) / a) - np.e ** (-1 / a)) / (1 - np.e ** (-1 / a))\n",
    "plt.plot(x, y, 'b', label='a={}'.format(a))\n",
    "\n",
    "a = 0.25\n",
    "y = (np.e ** (-(1 - x) / a) - np.e ** (-1 / a)) / (1 - np.e ** (-1 / a))\n",
    "plt.plot(x, y, 'r', label='a={}'.format(a))\n",
    "\n",
    "plt.legend(loc='upper left')\n",
    "\n",
    "plt.show()"
   ]
  },
  {
   "cell_type": "markdown",
   "metadata": {},
   "source": [
    "b) Koristeći centralne diferencije diskretizirajte rubni problem kao što smo to radili na predavanjima (u 4. predavanju -trodijagonalni sustavi te u 7. predavanju, drugi dio predavanja)\n",
    "Ovdje u Markdown ćeliju zapišite koji sustav dobivate za ako uzmete uniformnu mrežu na [0,1], odnosno točke $$\\{x_0=0,x_1,x_2,\\ldots , x_n, x_{n+1}\\},$$ gdje je $$x_i=x_0+ih, \\ i=1,2,3,\\ldots, n.$$\n",
    "Sustav zapišite za $n=5$. (Pisanje matrica provjerite u nekom od *.ipynb s predavanja )"
   ]
  },
  {
   "cell_type": "markdown",
   "metadata": {},
   "source": [
    "$$-a u''(x)+u'(x)=0$$\n",
    "\n",
    "$$n=5\\quad h=\\frac{1}{n+1}=\\frac{1}{6}$$\n",
    "\n",
    "$$x=x_i\\quad i=0,1,2,3,4,5,6\\quad x+h=x_{i+1}\\quad x-h=x_{i-1} \\quad x_0 = 0 \\quad x_6 = 1$$\n",
    "\n",
    "$$u'(x_i)\\approx\\frac{u_{i+1}-u_{i-1}}{2h}$$\n",
    "\n",
    "$$u''(x_i)\\approx\\frac{u_{i+1}-2u_i+u_{i-1}}{h^2}$$\n",
    "\n",
    "$$u'(x_i)=au''(x_i)$$\n",
    "\n",
    "$$(h-2a)u_{i+1} + 4au_i - (h+2a)u_{i-1}=0$$\n",
    "\n",
    "$$u_0 = 0\\quad u_6=1$$\n",
    "\n",
    "<br>\n",
    "\n",
    "$$\n",
    "\\begin{align}\n",
    "(h-2a)u_2 + 4au_1 = 0 \\quad i_1 \\newline\n",
    "(h-2a)u_3 + 4au_2 - (h+2a)u_1 = 0 \\quad i_2 \\newline\n",
    "(h-2a)u_4 + 4au_3 - (h+2a)u_2 = 0 \\quad i_3 \\newline\n",
    "(h-2a)u_5 + 4au_4 - (h+2a)u_3 = 0 \\quad i_4 \\newline\n",
    "4au_5 - (h+2a)u_4 = -(h-2a) \\quad i_5 \n",
    "\\end{align}\n",
    "$$\n",
    "\n",
    "<br>\n",
    "\n",
    "$$\n",
    "\\begin{bmatrix} \n",
    "4a& (h-2a)& 0& 0& 0 \\\\\n",
    "-(h+2a)& 4a& (h-2a)& 0& 0 \\\\\n",
    "0& -(h+2a)& 4a& (h-2a)& 0 \\\\\n",
    "0& 0& -(h+2a)& 4a& (h-2a) \\\\\n",
    "0& 0& 0& -(h+2a)& 4a\n",
    "\\end{bmatrix}\n",
    "\\begin{bmatrix} \n",
    "u_1 \\\\\n",
    "u_2 \\\\\n",
    "u_3 \\\\\n",
    "u_4 \\\\\n",
    "u_5\n",
    "\\end{bmatrix}\n",
    "=\n",
    "\\begin{bmatrix} \n",
    "0 \\\\\n",
    "0 \\\\\n",
    "0 \\\\\n",
    "0 \\\\\n",
    "-(h-2a)\n",
    "\\end{bmatrix}\n",
    "$$"
   ]
  },
  {
   "cell_type": "markdown",
   "metadata": {},
   "source": [
    "c) Neka je sada $a=2$ i $n=16$. Riješite dobiveni sustav Thomasovim algoritmom te skicirajte dobivenu aproksimaciju. "
   ]
  },
  {
   "cell_type": "code",
   "execution_count": 12,
   "metadata": {
    "scrolled": true
   },
   "outputs": [],
   "source": [
    "import matplotlib.pyplot as plt\n",
    "import numpy as np\n",
    "\n",
    "\n",
    "def LU_decompostion_tridiagonal(diagonal_a, diagonal_b, diagonal_c):\n",
    "    n = len(diagonal_b)\n",
    "\n",
    "    for k in range(1, n):\n",
    "        mu = diagonal_a[k - 1] / diagonal_b[k - 1]\n",
    "        diagonal_b[k] = diagonal_b[k] - mu * diagonal_c[k - 1]\n",
    "        diagonal_a[k - 1] = mu\n",
    "\n",
    "    return diagonal_a, diagonal_b, diagonal_c\n",
    "\n",
    "def LU_solve_tridiagonal(diagonal_a, diagonal_b, diagonal_c, f):\n",
    "    n = len(diagonal_b)\n",
    "\n",
    "    for k in range(1, n):\n",
    "        f[k] = f[k] - diagonal_a[k - 1] * f[k - 1]\n",
    "\n",
    "    f[n - 1] = f[n - 1] / diagonal_b[n - 1]\n",
    "\n",
    "    for k in range(n - 2, -1, -1):\n",
    "        f[k] = (f[k] - diagonal_c[k] * f[k + 1]) / diagonal_b[k]\n",
    "\n",
    "    return f\n",
    "\n",
    "def set_diagonals_and_f(x, a, alpha, beta):\n",
    "    n = len(x) - 2\n",
    "    h = 1.0 / (n + 1)\n",
    "\n",
    "    f = np.zeros((n - 1))\n",
    "    f = np.append(f, [(-(h - 2 * a))])\n",
    "\n",
    "    diagonal_a = np.ones((n - 1)) * (-(h + 2 * a))\n",
    "    \n",
    "    diagonal_b = np.ones((n)) * (4 * a)\n",
    "\n",
    "    diagonal_c = np.ones((n - 1)) * (h - 2 * a)\n",
    "\n",
    "    return diagonal_a, diagonal_b, diagonal_c, f\n",
    "\n",
    "\n",
    "def exact_solution(x, a):\n",
    "    return (np.e ** (-(1 - x) / a) - np.e ** (-1 / a)) / (1 - np.e ** (-1 / a))"
   ]
  },
  {
   "cell_type": "code",
   "execution_count": 18,
   "metadata": {},
   "outputs": [
    {
     "data": {
      "image/png": "[encoded data removed]",
      "text/plain": [
       "<Figure size 432x288 with 1 Axes>"
      ]
     },
     "metadata": {
      "needs_background": "light"
     },
     "output_type": "display_data"
    }
   ],
   "source": [
    "a = 2\n",
    "n = 16\n",
    "\n",
    "x = np.linspace(0, 1, n + 2)\n",
    "\n",
    "diagonal_a, diagonal_b, diagonal_c, f = set_diagonals_and_f(x, a, 0, 1)\n",
    "diagonal_a, diagonal_b, diagonal_c = LU_decompostion_tridiagonal(diagonal_a, diagonal_b, diagonal_c)\n",
    "\n",
    "y = LU_solve_tridiagonal(diagonal_a, diagonal_b, diagonal_c, f)\n",
    "\n",
    "plt.plot(x[1:n + 1], y, \"ro\")\n",
    "\n",
    "\n",
    "x = np.linspace(0, 1, 1000)\n",
    "y = exact_solution(x, a)\n",
    "\n",
    "plt.plot(x, y)\n",
    "\n",
    "plt.show()"
   ]
  },
  {
   "cell_type": "markdown",
   "metadata": {},
   "source": [
    "d) Neka je sada $a=0.01$ i $n=16$. Riješite dobiveni sustav Thomasovim algoritmom te skicirajte dobivenu aproksimaciju "
   ]
  },
  {
   "cell_type": "code",
   "execution_count": 17,
   "metadata": {},
   "outputs": [
    {
     "data": {
      "image/png": "[encoded data removed]",
      "text/plain": [
       "<Figure size 432x288 with 1 Axes>"
      ]
     },
     "metadata": {
      "needs_background": "light"
     },
     "output_type": "display_data"
    }
   ],
   "source": [
    "a = 0.01\n",
    "n = 16\n",
    "\n",
    "x = np.linspace(0, 1, n + 2)\n",
    "\n",
    "diagonal_a, diagonal_b, diagonal_c, f = set_diagonals_and_f(x, a, 0, 1)\n",
    "diagonal_a, diagonal_b, diagonal_c = LU_decompostion_tridiagonal(diagonal_a, diagonal_b, diagonal_c)\n",
    "\n",
    "y = LU_solve_tridiagonal(diagonal_a, diagonal_b, diagonal_c, f)\n",
    "\n",
    "plt.plot(x[1:n + 1], y, \"ro\")\n",
    "\n",
    "\n",
    "x = np.linspace(0, 1, 1000)\n",
    "y = exact_solution(x, a)\n",
    "\n",
    "plt.plot(x, y)\n",
    "\n",
    "\n",
    "plt.show()"
   ]
  },
  {
   "cell_type": "markdown",
   "metadata": {},
   "source": [
    "e)  Sve isto kao po c) i d) za $n=100$"
   ]
  },
  {
   "cell_type": "code",
   "execution_count": 15,
   "metadata": {},
   "outputs": [
    {
     "data": {
      "image/png": "[encoded data removed]",
      "text/plain": [
       "<Figure size 432x288 with 1 Axes>"
      ]
     },
     "metadata": {
      "needs_background": "light"
     },
     "output_type": "display_data"
    }
   ],
   "source": [
    "a = 2\n",
    "n = 100\n",
    "\n",
    "x = np.linspace(0, 1, n + 2)\n",
    "\n",
    "diagonal_a, diagonal_b, diagonal_c, f = set_diagonals_and_f(x, a, 0, 1)\n",
    "diagonal_a, diagonal_b, diagonal_c = LU_decompostion_tridiagonal(diagonal_a, diagonal_b, diagonal_c)\n",
    "\n",
    "y = LU_solve_tridiagonal(diagonal_a, diagonal_b, diagonal_c, f)\n",
    "\n",
    "plt.plot(x[1:n + 1], y, \"ro\")\n",
    "\n",
    "\n",
    "x = np.linspace(0, 1, 1000)\n",
    "y = exact_solution(x, a)\n",
    "\n",
    "plt.plot(x, y)\n",
    "\n",
    "\n",
    "plt.show()"
   ]
  },
  {
   "cell_type": "code",
   "execution_count": 16,
   "metadata": {},
   "outputs": [
    {
     "data": {
      "image/png": "[encoded data removed]",
      "text/plain": [
       "<Figure size 432x288 with 1 Axes>"
      ]
     },
     "metadata": {
      "needs_background": "light"
     },
     "output_type": "display_data"
    }
   ],
   "source": [
    "a = 0.01\n",
    "n = 100\n",
    "\n",
    "x = np.linspace(0, 1, n + 2)\n",
    "\n",
    "diagonal_a, diagonal_b, diagonal_c, f = set_diagonals_and_f(x, a, 0, 1)\n",
    "diagonal_a, diagonal_b, diagonal_c = LU_decompostion_tridiagonal(diagonal_a, diagonal_b, diagonal_c)\n",
    "\n",
    "y = LU_solve_tridiagonal(diagonal_a, diagonal_b, diagonal_c, f)\n",
    "\n",
    "plt.plot(x[1:n + 1], y, \"ro\")\n",
    "\n",
    "\n",
    "x = np.linspace(0, 1, 1000)\n",
    "y = exact_solution(x, a)\n",
    "\n",
    "plt.plot(x, y)\n",
    "\n",
    "\n",
    "plt.show()"
   ]
  },
  {
   "cell_type": "code",
   "execution_count": null,
   "metadata": {},
   "outputs": [],
   "source": []
  }
 ],
 "metadata": {
  "kernelspec": {
   "display_name": "Python 3 (ipykernel)",
   "language": "python",
   "name": "python3"
  },
  "language_info": {
   "codemirror_mode": {
    "name": "ipython",
    "version": 3
   },
   "file_extension": ".py",
   "mimetype": "text/x-python",
   "name": "python",
   "nbconvert_exporter": "python",
   "pygments_lexer": "ipython3",
   "version": "3.8.10"
  }
 },
 "nbformat": 4,
 "nbformat_minor": 2
}
